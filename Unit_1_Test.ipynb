{
  "nbformat": 4,
  "nbformat_minor": 0,
  "metadata": {
    "colab": {
      "provenance": [],
      "authorship_tag": "ABX9TyNl+N3CuQVaMLcAx0DyjxgG",
      "include_colab_link": true
    },
    "kernelspec": {
      "name": "python3",
      "display_name": "Python 3"
    },
    "language_info": {
      "name": "python"
    }
  },
  "cells": [
    {
      "cell_type": "markdown",
      "metadata": {
        "id": "view-in-github",
        "colab_type": "text"
      },
      "source": [
        "<a href=\"https://colab.research.google.com/github/miriaaam113/Inteligencia-Artificial-MRR/blob/main/Unit_1_Test.ipynb\" target=\"_parent\"><img src=\"https://colab.research.google.com/assets/colab-badge.svg\" alt=\"Open In Colab\"/></a>"
      ]
    },
    {
      "cell_type": "code",
      "execution_count": 4,
      "metadata": {
        "id": "gndUIHb8-yNR",
        "colab": {
          "base_uri": "https://localhost:8080/"
        },
        "outputId": "84f23c0a-972a-4c52-edd7-4d43570825ff"
      },
      "outputs": [
        {
          "output_type": "stream",
          "name": "stdout",
          "text": [
            "Introduce el valor de X0 (0 o 1): 0\n",
            "Introduce el valor de X1 (0 o 1): 0\n",
            "\n",
            "Resultados: 0 AND 0 = 0, 0 OR 0 = 0\n",
            "\n",
            "¿Otro dataset? (s/n): s\n",
            "Introduce el valor de X0 (0 o 1): 1\n",
            "Introduce el valor de X1 (0 o 1): 0\n",
            "\n",
            "Resultados: 1 AND 0 = 0, 1 OR 0 = 1\n",
            "\n",
            "¿Otro dataset? (s/n): s\n",
            "Introduce el valor de X0 (0 o 1): 0\n",
            "Introduce el valor de X1 (0 o 1): 0\n",
            "\n",
            "Resultados: 0 AND 0 = 0, 0 OR 0 = 0\n",
            "\n",
            "¿Otro dataset? (s/n): 1\n",
            "\n",
            "Adiós!\n"
          ]
        }
      ],
      "source": [
        "# Programa compacto en Google Colab para compuertas lógicas AND y OR\n",
        "def calcular_compuertas(x):\n",
        "    return (1 if sum(x) == 2 else 0, 1 if sum(x) > 0 else 0)\n",
        "\n",
        "def menu_interactivo():\n",
        "    while True:\n",
        "        try:\n",
        "            x = [int(input(f\"Introduce el valor de X{i} (0 o 1): \")) for i in range(2)]\n",
        "            if any(v not in [0, 1] for v in x):\n",
        "                print(\"Solo valores 0 o 1.\")\n",
        "                continue\n",
        "\n",
        "            y_and, y_or = calcular_compuertas(x)\n",
        "            print(f\"\\nResultados: {x[0]} AND {x[1]} = {y_and}, {x[0]} OR {x[1]} = {y_or}\")\n",
        "\n",
        "            if input(\"\\n¿Otro dataset? (s/n): \").lower() != 's':\n",
        "                print(\"\\nAdiós!\")\n",
        "                break\n",
        "        except ValueError:\n",
        "            print(\"Introduce valores válidos (0 o 1).\")\n",
        "\n",
        "menu_interactivo()\n",
        "\n"
      ]
    }
  ]
}