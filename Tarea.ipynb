{
  "nbformat": 4,
  "nbformat_minor": 0,
  "metadata": {
    "colab": {
      "provenance": [],
      "toc_visible": true,
      "authorship_tag": "ABX9TyMkMeJqwklpXgp50FKttxCv",
      "include_colab_link": true
    },
    "kernelspec": {
      "name": "python3",
      "display_name": "Python 3"
    },
    "language_info": {
      "name": "python"
    }
  },
  "cells": [
    {
      "cell_type": "markdown",
      "metadata": {
        "id": "view-in-github",
        "colab_type": "text"
      },
      "source": [
        "<a href=\"https://colab.research.google.com/github/miriaaam113/Inteligencia-Artificial-MRR/blob/main/Tarea.ipynb\" target=\"_parent\"><img src=\"https://colab.research.google.com/assets/colab-badge.svg\" alt=\"Open In Colab\"/></a>"
      ]
    },
    {
      "cell_type": "markdown",
      "source": [
        "# Taller Automotriz"
      ],
      "metadata": {
        "id": "zWMVgZJqbk0v"
      }
    },
    {
      "cell_type": "markdown",
      "source": [
        "Un taller automotriz necesita llevar un control de su inventario de repuestos. Crea un programa que permita agregar, eliminar y consultar la cantidad de repuestos disponibles, así como realizar una compra cuando el inventario de un repuesto está bajo."
      ],
      "metadata": {
        "id": "3aGUQ8vybwpq"
      }
    },
    {
      "cell_type": "markdown",
      "source": [
        "Inventario de taller automotriz"
      ],
      "metadata": {
        "id": "HAewHoiQckR6"
      }
    },
    {
      "cell_type": "code",
      "source": [
        "inventario = {}"
      ],
      "metadata": {
        "id": "cS72lGd7b6zO"
      },
      "execution_count": null,
      "outputs": []
    },
    {
      "cell_type": "markdown",
      "source": [
        "Función para agregar un repuesto al inventario\n",
        "Si el repuesto ya existe, se actualiza su cantidad."
      ],
      "metadata": {
        "id": "h12683T4R6jS"
      }
    },
    {
      "cell_type": "code",
      "source": [
        "def agregar(nombre, cantidad):\n",
        "    inventario[nombre] = cantidad  # Agrega o actualiza el repuesto en el inventario\n",
        "    print(f\"Agregado: {nombre} - Cantidad: {cantidad}\")"
      ],
      "metadata": {
        "id": "Iw_dCU-IR65v"
      },
      "execution_count": null,
      "outputs": []
    },
    {
      "cell_type": "markdown",
      "source": [
        "Función para eliminar un repuesto del inventario\n",
        "Verifica si el repuesto existe antes de eliminarlo."
      ],
      "metadata": {
        "id": "dGqSyDQER7X0"
      }
    },
    {
      "cell_type": "code",
      "source": [
        "def eliminar(nombre):\n",
        "    if nombre in inventario:\n",
        "        del inventario[nombre]  # Elimina el repuesto del inventario\n",
        "        print(f\"Eliminado: {nombre}\")\n",
        "    else:\n",
        "        print(\"Repuesto no encontrado.\")"
      ],
      "metadata": {
        "id": "Py0NFY-7R7xj"
      },
      "execution_count": null,
      "outputs": []
    },
    {
      "cell_type": "markdown",
      "source": [
        "Función para consultar la cantidad de un repuesto específico en el inventario\n",
        "Si el repuesto no existe, se notifica al usuario."
      ],
      "metadata": {
        "id": "ntNovFQ2Sc17"
      }
    },
    {
      "cell_type": "code",
      "source": [
        "def consultar(nombre):\n",
        "    if nombre in inventario:\n",
        "        print(f\"{nombre}: {inventario[nombre]}\")  # Muestra la cantidad del repuesto\n",
        "    else:\n",
        "        print(\"Repuesto no encontrado.\")"
      ],
      "metadata": {
        "id": "UJUuR_YwSdOr"
      },
      "execution_count": null,
      "outputs": []
    },
    {
      "cell_type": "markdown",
      "source": [
        "Función para comprar un repuesto si la cantidad es menor que un mínimo establecido\n",
        "Si la cantidad actual es menor al mínimo, se ajusta la cantidad al mínimo."
      ],
      "metadata": {
        "id": "l49hTB_RSdbX"
      }
    },
    {
      "cell_type": "code",
      "source": [
        "def comprar(nombre, minimo):\n",
        "    if nombre in inventario and inventario[nombre] < minimo:\n",
        "        inventario[nombre] = minimo  # Se ajusta la cantidad del repuesto al mínimo\n",
        "        print(f\"Comprado {nombre}, ahora tienes {minimo} unidades.\")\n",
        "    else:\n",
        "        print(f\"{nombre} tiene suficiente cantidad o no está en inventario.\")"
      ],
      "metadata": {
        "id": "5T4gsAc0Sd43"
      },
      "execution_count": null,
      "outputs": []
    },
    {
      "cell_type": "markdown",
      "source": [
        " Bucle para mostrar un menú interactivo simple\n",
        "El usuario selecciona una opción para realizar una operación en el inventario."
      ],
      "metadata": {
        "id": "j5LZXsmTSqNT"
      }
    },
    {
      "cell_type": "code",
      "source": [
        "while True:\n",
        "    print(\"\\n1. Agregar\\n2. Eliminar\\n3. Consultar\\n4. Comprar\\n5. Salir\")  # Opciones del menú\n",
        "    opcion = input(\"Opción: \")  # Pide al usuario seleccionar una opción\n",
        "\n",
        "    if opcion == \"1\":\n",
        "        nombre = input(\"Nombre: \")  # Solicita el nombre del repuesto\n",
        "        cantidad = int(input(\"Cantidad: \"))  # Solicita la cantidad del repuesto\n",
        "        agregar(nombre, cantidad)  # Llama a la función agregar\n",
        "    elif opcion == \"2\":\n",
        "        nombre = input(\"Nombre: \")  # Solicita el nombre del repuesto a eliminar\n",
        "        eliminar(nombre)  # Llama a la función eliminar\n",
        "    elif opcion == \"3\":\n",
        "        nombre = input(\"Nombre: \")  # Solicita el nombre del repuesto a consultar\n",
        "        consultar(nombre)  # Llama a la función consultar\n",
        "    elif opcion == \"4\":\n",
        "        nombre = input(\"Nombre: \")  # Solicita el nombre del repuesto a comprar\n",
        "        minimo = int(input(\"Cantidad mínima: \"))  # Solicita la cantidad mínima para hacer la compra\n",
        "        comprar(nombre, minimo)  # Llama a la función comprar\n",
        "    elif opcion == \"5\":\n",
        "        break  # Sale del bucle y finaliza el programa\n",
        "    else:\n",
        "        print(\"Opción no válida.\")"
      ],
      "metadata": {
        "colab": {
          "base_uri": "https://localhost:8080/"
        },
        "id": "E1KBcicASqmC",
        "outputId": "664117ab-5616-4911-d2bc-bc03d20990d7"
      },
      "execution_count": null,
      "outputs": [
        {
          "name": "stdout",
          "output_type": "stream",
          "text": [
            "\n",
            "1. Agregar\n",
            "2. Eliminar\n",
            "3. Consultar\n",
            "4. Comprar\n",
            "5. Salir\n",
            "Opción: 5\n"
          ]
        }
      ]
    },
    {
      "cell_type": "markdown",
      "source": [
        "# Empresa de Servicios a Terceros"
      ],
      "metadata": {
        "id": "mgbviAhjbomT"
      }
    },
    {
      "cell_type": "markdown",
      "source": [
        "Una empresa de servicios a terceros ofrece proyectos de consultoría y debe llevar el control de horas trabajadas por sus empleados en diferentes proyectos. Crea un programa que calcule las horas totales trabajadas por cada empleado en varios proyectos y su costo total en función de la tarifa por hora.\n"
      ],
      "metadata": {
        "id": "tNDxqzbqb1aE"
      }
    },
    {
      "cell_type": "markdown",
      "source": [
        "Diccionario para almacenar los empleados, sus horas trabajadas y la tarifa por hora"
      ],
      "metadata": {
        "id": "B_a2n6qTUwkL"
      }
    },
    {
      "cell_type": "code",
      "execution_count": null,
      "metadata": {
        "id": "lrDLAbo3ar7K"
      },
      "outputs": [],
      "source": [
        "empleados = {}"
      ]
    },
    {
      "cell_type": "markdown",
      "source": [
        "Función para agregar horas trabajadas a un empleado"
      ],
      "metadata": {
        "id": "cMuzBH0WXEF3"
      }
    },
    {
      "cell_type": "code",
      "source": [
        "def agregar_horas(empleado, horas, tarifa):\n",
        "    if empleado in empleados:\n",
        "        # Si el empleado ya existe, suma las horas\n",
        "        total_horas, _ = empleados[empleado]\n",
        "        empleados[empleado] = (total_horas + horas, tarifa)  # Actualiza horas y tarifa\n",
        "    else:\n",
        "        # Si el empleado no existe, lo agrega\n",
        "        empleados[empleado] = (horas, tarifa)\n",
        "    print(f\"Empleado: {empleado}, Horas totales: {empleados[empleado][0]}, Tarifa: ${tarifa}/hora\")"
      ],
      "metadata": {
        "id": "vBz_yjouXKGj"
      },
      "execution_count": null,
      "outputs": []
    },
    {
      "cell_type": "markdown",
      "source": [
        " Función para calcular el costo total de un empleado"
      ],
      "metadata": {
        "id": "MFHpsESyXPw6"
      }
    },
    {
      "cell_type": "code",
      "source": [
        "def calcular_costos(empleado):\n",
        "    if empleado in empleados:\n",
        "        # Calcula el costo total multiplicando horas trabajadas por tarifa\n",
        "        total_horas, tarifa = empleados[empleado]\n",
        "        costo_total = total_horas * tarifa\n",
        "        print(f\"Empleado: {empleado}, Total horas: {total_horas}, Costo total: ${costo_total}\")\n",
        "    else:\n",
        "        print(\"Empleado no encontrado.\")"
      ],
      "metadata": {
        "id": "m0Pv-96LXQHB"
      },
      "execution_count": null,
      "outputs": []
    },
    {
      "cell_type": "markdown",
      "source": [
        "Menu"
      ],
      "metadata": {
        "id": "Es0Uh65AXb5e"
      }
    },
    {
      "cell_type": "code",
      "source": [
        "while True:\n",
        "    print(\"\\n1. Agregar horas\\n2. Calcular costos\\n3. Salir\")  # Opciones del menú\n",
        "    opcion = input(\"Opción: \")  # Leer opción del usuario\n",
        "\n",
        "    if opcion == \"1\":\n",
        "        # Agregar horas trabajadas\n",
        "        empleado = input(\"Nombre del empleado: \")\n",
        "        horas = float(input(\"Horas trabajadas: \"))\n",
        "        tarifa = float(input(\"Tarifa por hora: \"))\n",
        "        agregar_horas(empleado, horas, tarifa)  # Llama a la función agregar_horas\n",
        "    elif opcion == \"2\":\n",
        "        # Calcular el costo total\n",
        "        empleado = input(\"Nombre del empleado: \")\n",
        "        calcular_costos(empleado)  # Llama a la función calcular_costos\n",
        "    elif opcion == \"3\":\n",
        "        # Opción para salir del programa\n",
        "        print(\"Saliendo...\")\n",
        "        break  # Termina el bucle\n",
        "    else:\n",
        "        print(\"Opción no válida.\")  # Mensaje para opción inválida"
      ],
      "metadata": {
        "colab": {
          "base_uri": "https://localhost:8080/"
        },
        "id": "wMXEQF6nXlit",
        "outputId": "5e3e5fef-039e-47ca-f67b-709c98f723b1"
      },
      "execution_count": null,
      "outputs": [
        {
          "output_type": "stream",
          "name": "stdout",
          "text": [
            "\n",
            "1. Agregar horas\n",
            "2. Calcular costos\n",
            "3. Salir\n",
            "Opción: 1\n",
            "Nombre del empleado: Miriam\n",
            "Horas trabajadas: 40\n",
            "Tarifa por hora: 205\n",
            "Empleado: Miriam, Horas totales: 40.0, Tarifa: $205.0/hora\n",
            "\n",
            "1. Agregar horas\n",
            "2. Calcular costos\n",
            "3. Salir\n",
            "Opción: 2\n",
            "Nombre del empleado: Miriam\n",
            "Empleado: Miriam, Total horas: 40.0, Costo total: $8200.0\n",
            "\n",
            "1. Agregar horas\n",
            "2. Calcular costos\n",
            "3. Salir\n",
            "Opción: 3\n",
            "Saliendo...\n"
          ]
        }
      ]
    }
  ]
}